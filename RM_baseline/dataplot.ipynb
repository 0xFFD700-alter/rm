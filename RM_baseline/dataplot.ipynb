{
 "cells": [
  {
   "cell_type": "code",
   "execution_count": 1,
   "metadata": {},
   "outputs": [],
   "source": [
    "import copy\n",
    "import os\n",
    "import sys\n",
    "import numpy as np\n",
    "import matplotlib.pyplot as plt\n",
    "sys.path.append(os.path.abspath(os.path.join(os.getcwd(), 'RM_baseline')))\n",
    "\n",
    "from model_copy import DoraNet\n",
    "from util import *\n",
    "from dataset import DoraSet, DoraSetComb"
   ]
  },
  {
   "cell_type": "code",
   "execution_count": 2,
   "metadata": {},
   "outputs": [],
   "source": [
    "epochs = 500  # total epochs\n",
    "local_epochs = 5 # local epochs of each user at an iteration\n",
    "saveLossInterval = 1  # intervals to save loss\n",
    "saveModelInterval = 10  # intervals to save model\n",
    "batchSize = 500  # batchsize for training and evaluation\n",
    "num_users = 90   # total users\n",
    "num_activate_users = 5\n",
    "lr = 3e-4  # learning rate\n",
    "cudaIdx = \"cuda:0\"  # GPU card index\n",
    "device = torch.device(cudaIdx if torch.cuda.is_available() else \"cpu\")\n",
    "num_workers = 0  # workers for dataloader\n",
    "evaluation = False  # evaluation only if True"
   ]
  },
  {
   "cell_type": "code",
   "execution_count": null,
   "metadata": {},
   "outputs": [],
   "source": [
    "folder = \"./data/train/\"\n",
    "userlist = list(range(1, 91))\n",
    "# userlist = list(range(1, 11))\n",
    "datalist = []\n",
    "\n",
    "count = 0\n",
    "for i in userlist:\n",
    "    clientId = i\n",
    "    data_i = np.reshape(np.load(folder+f'user_{clientId:02d}.npy'),(-1,6))\n",
    "    datalist.append(data_i)\n",
    "    if clientId % 10 == 0:\n",
    "        print(count)\n",
    "        count = 0\n",
    "    else:\n",
    "        count += data_i.shape[0]\n",
    "\n",
    "# data = np.vstack(datalist)\n",
    "# plt.figure(figsize=(16, 12))\n",
    "# plt.scatter(data[:, 0], data[:, 1], s=6, c=data[:,5])\n",
    "# plt.colorbar()"
   ]
  },
  {
   "cell_type": "code",
   "execution_count": null,
   "metadata": {},
   "outputs": [],
   "source": [
    "folder = \"./data/train/\"\n",
    "userlist = list(range(1, 91))\n",
    "# userlist = list(range(1, 11))\n",
    "datalist = []\n",
    "\n",
    "bs = 1\n",
    "for i in userlist:\n",
    "    clientId = i\n",
    "    data_i = np.reshape(np.load(folder+f'user_{clientId:02d}.npy'),(-1,6))\n",
    "    # data_i[:, 2:] = 10 ** (data_i[:, 2:] / 10)\n",
    "    # datalist.append(data_i[data_i[:, 1 + bs] != 0, :])\n",
    "    datalist.append(data_i)\n",
    "\n",
    "data = np.vstack(datalist)\n",
    "print(data[:, 0].min(), data[:, 0].max(), data[:, 1].min(), data[:, 1].max())\n",
    "print(data[:, 2:].min(), data[:, 2:][data[:, 2:] != 0].max())\n",
    "# plt.figure(figsize=(16, 12))\n",
    "# plt.scatter(data[:, 0], data[:, 1], s=6, c=data[:, 1 + bs])\n",
    "# plt.colorbar()\n",
    "\n",
    "# userlist = list(range(1, 91))\n",
    "# datalist = []\n",
    "\n",
    "# bs = 1\n",
    "# for i in userlist:\n",
    "#     clientId = i\n",
    "#     data_i = np.reshape(np.load(folder+f'user_{clientId:02d}.npy'),(-1,6))\n",
    "#     # data_i[:, 2:] = 10 ** (data_i[:, 2:] / 10)\n",
    "#     datalist.append(data_i[data_i[:, 1 + bs] != 0, :])\n",
    "\n",
    "# data = np.vstack(datalist)\n",
    "# plt.figure(figsize=(16, 12))\n",
    "# plt.scatter(data[:, 0], data[:, 1], s=6, c=data[:, 1 + bs])\n",
    "# plt.colorbar()\n",
    "\n",
    "# idx 2, bs 1, bottomleft\n",
    "# idx 3, bs 2, upperleft\n",
    "# idx 4, bs 3, bottomright\n",
    "# idx 5, bs 4, upperright"
   ]
  },
  {
   "cell_type": "code",
   "execution_count": 3,
   "metadata": {},
   "outputs": [
    {
     "data": {
      "text/plain": [
       "97.29958722845134"
      ]
     },
     "execution_count": 3,
     "metadata": {},
     "output_type": "execute_result"
    }
   ],
   "source": [
    "model = DoraNet()\n",
    "model.load_state_dict(torch.load('../tarfile/models/model500.pth'))\n",
    "model.to(device)\n",
    "train_dataset_path = 'data/train/'\n",
    "valid_datasets = []\n",
    "for i in range(1, num_users + 1):\n",
    "    all_dataset = DoraSet(train_dataset_path, set='train', clientId=i)\n",
    "    # train_size = int(0.99 * len(all_dataset))\n",
    "    # valid_size = len(all_dataset) - train_size\n",
    "    # train_dataset, valid_dataset = torch.utils.data.random_split(all_dataset, [train_size, valid_size])\n",
    "    # train_datasets.append(train_dataset)\n",
    "    # valid_datasets.append(valid_dataset)\n",
    "    valid_datasets.append(all_dataset)\n",
    "\n",
    "valid_data_comb = DoraSetComb(valid_datasets)\n",
    "valid_loader = torch.utils.data.DataLoader(valid_data_comb, 500, shuffle=False, num_workers=num_workers)\n",
    "\n",
    "def valid(data_loader, model):\n",
    "    with torch.no_grad():\n",
    "        model.eval()\n",
    "        # losses = Recoder()\n",
    "        # scores = Recoder()\n",
    "        count = 0\n",
    "        accuracy = 0\n",
    "        for i, (pos, pathloss) in enumerate(data_loader):\n",
    "            pos = pos.float().to(device)\n",
    "            pathloss = pathloss.float().to(device)\n",
    "            # p_pathloss = model(pos)\n",
    "            # loss = torch.mean(torch.abs(p_pathloss[pathloss != 0] - pathloss[pathloss != 0])) ## unit in dB\n",
    "            # tmp1 = torch.sum(torch.abs(10 ** (0.1 * p_pathloss[pathloss != 0]) - 10 ** (0.1 * pathloss[pathloss != 0])) ** 2)\n",
    "            # tmp2 = torch.sum(torch.abs(10 ** (0.1 * pathloss[pathloss != 0])) ** 2)\n",
    "            # score = tmp1 / tmp2\n",
    "            # if score>1:\n",
    "            #     score=torch.tensor([1])\n",
    "            # losses.update(loss.item(), len(pos))\n",
    "            # scores.update(score.item(), len(pos))\n",
    "            pred = model(pos)\n",
    "            mask = torch.where(pathloss != 0., 1., 0.).float().to(device)\n",
    "            accuracy += torch.sum(pred == mask).item()\n",
    "            count += mask.numel()\n",
    "    # return -10 * np.log10(scores.avg())\n",
    "    return accuracy / count * 100\n",
    "\n",
    "valid(valid_loader, model)"
   ]
  }
 ],
 "metadata": {
  "kernelspec": {
   "display_name": "rm",
   "language": "python",
   "name": "python3"
  },
  "language_info": {
   "codemirror_mode": {
    "name": "ipython",
    "version": 3
   },
   "file_extension": ".py",
   "mimetype": "text/x-python",
   "name": "python",
   "nbconvert_exporter": "python",
   "pygments_lexer": "ipython3",
   "version": "3.9.16"
  },
  "orig_nbformat": 4,
  "vscode": {
   "interpreter": {
    "hash": "c028564ce27b7cf2c355d7312f0701cc6f23992aefc0836e90319aa838cc1b18"
   }
  }
 },
 "nbformat": 4,
 "nbformat_minor": 2
}
